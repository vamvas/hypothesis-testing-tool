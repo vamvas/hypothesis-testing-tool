{
 "cells": [
  {
   "cell_type": "code",
   "execution_count": 1,
   "id": "77aae48e-7dd9-4eaa-a674-266a76b0cb26",
   "metadata": {},
   "outputs": [],
   "source": [
    "import sys\n",
    "import os\n",
    "sys.path.append(os.path.abspath(os.path.join('..')))"
   ]
  },
  {
   "cell_type": "markdown",
   "id": "5b32fb6d-86e2-4696-9212-2a2b71e6b5f2",
   "metadata": {},
   "source": [
    "<br>\n",
    "<br>\n",
    "\n"
   ]
  },
  {
   "cell_type": "markdown",
   "id": "fdbc1abc-e7b4-470a-8221-4cc103c1cf7e",
   "metadata": {},
   "source": [
    "<span style=\"color:red\">**All cells above (including this cell) MUST be manually removed before converting to the description.md**</span>\" "
   ]
  },
  {
   "cell_type": "markdown",
   "id": "f3d78f76-cbb0-4b83-b6d9-0b8fc741809f",
   "metadata": {},
   "source": [
    "# A package for conducting one sample and two sample hypothesis testing.\n",
    "\n",
    "**One Sample Mean**\n",
    "- p-values (two tailed and one-tailed)\n",
    "- confidence intervals (with plots for visualising results)\n",
    "\n",
    "**Two Sample Means**\n",
    "- p-values (two tailed and one-tailed)"
   ]
  },
  {
   "cell_type": "markdown",
   "id": "40366940-cd07-4c8c-b25a-617c1d091d8f",
   "metadata": {},
   "source": [
    "<br>\n",
    "\n",
    "# **One Sample Hypothesis Testing**"
   ]
  },
  {
   "cell_type": "code",
   "execution_count": 2,
   "id": "3ff811af-0b83-415b-8fa6-14068ec0384b",
   "metadata": {},
   "outputs": [],
   "source": [
    "from hypothesis_testing_tool.compute_stats.one_sample_statistics import OneSampleTest"
   ]
  },
  {
   "cell_type": "markdown",
   "id": "336a2530-3ee9-433a-8c93-f12aebb30a6b",
   "metadata": {},
   "source": [
    "<br>\n",
    "\n",
    "**First let's load some simulated data**"
   ]
  },
  {
   "cell_type": "code",
   "execution_count": 3,
   "id": "f4ff0c3d-e8ee-424b-9c53-21943a85c801",
   "metadata": {},
   "outputs": [],
   "source": [
    "import random\n",
    "\n",
    "# Set the seed for reproducibility\n",
    "seed_value = 42\n",
    "random.seed(seed_value)\n",
    "\n",
    "random_sample = [random.gauss(mu = 5, sigma = 1) for _ in range(1000)]"
   ]
  },
  {
   "cell_type": "markdown",
   "id": "42d81aa5-097a-402b-ba53-e84a08bf085c",
   "metadata": {},
   "source": [
    "<br>\n",
    "\n",
    "**Let's see an example of how you can use the `OneSampleTest` class.**\n"
   ]
  },
  {
   "cell_type": "code",
   "execution_count": 4,
   "id": "caa555ac-9c5e-46e6-861e-1c222b1d6725",
   "metadata": {},
   "outputs": [
    {
     "name": "stdout",
     "output_type": "stream",
     "text": [
      "p-value: 0.00\n",
      "t-statistic: 45.96\n"
     ]
    }
   ],
   "source": [
    "t_test = OneSampleTest(\n",
    "        data = random_sample,\n",
    "        null_population_mean = 3.5\n",
    "        ).t_test_results\n",
    "\n",
    "print(f\"p-value: {t_test.pvalue:.2f}\")\n",
    "print(f\"t-statistic: {t_test.statistic:.2f}\")"
   ]
  },
  {
   "cell_type": "markdown",
   "id": "f5b8a662-45a8-4a9e-ba0c-a463eb47a835",
   "metadata": {},
   "source": [
    "<br>\n",
    "\n",
    "**The default is with alternative = \"two-sided\", but that can change to a one tail test.**"
   ]
  },
  {
   "cell_type": "code",
   "execution_count": 5,
   "id": "40d55167-4430-4ab0-b15c-675310bfbed9",
   "metadata": {},
   "outputs": [
    {
     "name": "stdout",
     "output_type": "stream",
     "text": [
      "p-value: 1.00\n",
      "t-statistic: 45.96\n"
     ]
    }
   ],
   "source": [
    "t_test_less = OneSampleTest(\n",
    "        data = random_sample,\n",
    "        null_population_mean = 3.5,\n",
    "        alternative = \"less\"\n",
    "        ).t_test_results\n",
    "\n",
    "print(f\"p-value: {t_test_less.pvalue:.2f}\")\n",
    "print(f\"t-statistic: {t_test_less.statistic:.2f}\")"
   ]
  },
  {
   "cell_type": "code",
   "execution_count": 6,
   "id": "1f193762-5814-4933-a965-2ea05d3c2d8d",
   "metadata": {},
   "outputs": [
    {
     "name": "stdout",
     "output_type": "stream",
     "text": [
      "p-value: 0.00\n",
      "t-statistic: 45.96\n"
     ]
    }
   ],
   "source": [
    "t_test_greater = OneSampleTest(\n",
    "        data = random_sample,\n",
    "        null_population_mean = 3.5,\n",
    "        alternative = \"greater\"\n",
    "        ).t_test_results\n",
    "\n",
    "print(f\"p-value: {t_test_greater.pvalue:.2f}\")\n",
    "print(f\"t-statistic: {t_test_greater.statistic:.2f}\")"
   ]
  },
  {
   "cell_type": "markdown",
   "id": "bf199e49-2afc-49ff-95ec-5333a01524d7",
   "metadata": {},
   "source": [
    "<br>\n",
    "\n",
    "**You can also compute the confidence interval (default = 95%) for the mean, using the `calculate_ci` method.**\n",
    "\n",
    "**The `calculate_ci` method takes an optional argument `alpha` to adjust to 99% CI (alpha = 0.01) or any other.**"
   ]
  },
  {
   "cell_type": "code",
   "execution_count": 7,
   "id": "9c594dc0-f88c-4fe7-a768-07e408de2d74",
   "metadata": {},
   "outputs": [
    {
     "data": {
      "text/plain": [
       "{'lower_bound': 4.918459428969473,\n",
       " 'point_estimate': 4.9817306915192265,\n",
       " 'upper_bound': 5.04500195406898,\n",
       " 'null_population_mean': 3.5}"
      ]
     },
     "execution_count": 7,
     "metadata": {},
     "output_type": "execute_result"
    }
   ],
   "source": [
    "confidence_interval = OneSampleTest(\n",
    "        data = random_sample,\n",
    "        null_population_mean = 3.5\n",
    "        ).calculate_ci()\n",
    "confidence_interval"
   ]
  },
  {
   "cell_type": "markdown",
   "id": "78619074-e2b5-4e1c-9628-71e9be52b3eb",
   "metadata": {},
   "source": [
    "<br>\n",
    "\n",
    "**Finally, you can create a plot with the CI and save it to a local path.**\n",
    "\n",
    "The code should be run using a context manager (`with`) to ensure that the plot closes after execution."
   ]
  },
  {
   "cell_type": "code",
   "execution_count": 8,
   "id": "5c0362b7-2962-4367-b739-6639f02810c0",
   "metadata": {},
   "outputs": [],
   "source": [
    "from hypothesis_testing_tool.presentation.create_plots import OneSampleCIPlot\n"
   ]
  },
  {
   "cell_type": "code",
   "execution_count": null,
   "id": "23932e3b-84d6-4e80-9f74-55a67e44fd4f",
   "metadata": {},
   "outputs": [],
   "source": [
    "with OneSampleCIPlot(confidence_interval, width = 8, height = 4) as plot_instance:\n",
    "        plot_instance.save_plot(\"artifacts/one_sample_plot.png\")\n",
    "        plot_instance.show_plot()\n"
   ]
  },
  {
   "cell_type": "markdown",
   "id": "d7a5ef20-1288-40fd-9814-a7aa7691f43b",
   "metadata": {},
   "source": [
    "<img src=\"https://raw.githubusercontent.com/vamvas/hypothesis-testing-tool/master/description/artifacts/one_sample_plot.png\" >"
   ]
  },
  {
   "cell_type": "markdown",
   "id": "db5739fc-1551-40da-bc1a-183020d18c0a",
   "metadata": {},
   "source": [
    "**In the plot above the 95% confidence interval includes 3.5, so we do not reject the null hypothesis.**"
   ]
  },
  {
   "cell_type": "markdown",
   "id": "c0195b6d-9d18-494c-8b20-58142143433a",
   "metadata": {},
   "source": [
    "<br>\n",
    "\n",
    "# **Two Sample Hypothesis Testing**"
   ]
  },
  {
   "cell_type": "code",
   "execution_count": 10,
   "id": "e30407ff-c7a0-4336-b60c-bd5f370c7ef6",
   "metadata": {},
   "outputs": [],
   "source": [
    "from hypothesis_testing_tool.compute_stats.two_sample_statistics import TwoSampleTest"
   ]
  },
  {
   "cell_type": "code",
   "execution_count": 11,
   "id": "57bfb8a3-d089-434a-aa48-1700dee6ee46",
   "metadata": {},
   "outputs": [],
   "source": [
    "import random\n",
    "\n",
    "# Set the seed for reproducibility\n",
    "seed_value = 42\n",
    "random.seed(seed_value)\n",
    "\n",
    "data_a = [random.gauss(mu = 5, sigma = 1) for _ in range(1000)]\n",
    "data_b = [random.gauss(mu = 6, sigma = 1) for _ in range(1000)]"
   ]
  },
  {
   "cell_type": "markdown",
   "id": "ba624fbf-c675-4ebf-8630-646df63cf345",
   "metadata": {},
   "source": [
    "<br>\n",
    "\n",
    "**For the two sample hypothesis test, a user must specify if the variances in the two groups are equal (default) or not**\n",
    "- If `eqaul_var = True`, the Independent two-sample t-test is executed\n",
    "- If `eqaul_var = False`, the Welch t-test is executed"
   ]
  },
  {
   "cell_type": "code",
   "execution_count": 12,
   "id": "8a8692cd-a7d9-423b-8b1c-6a130932a9f9",
   "metadata": {},
   "outputs": [
    {
     "name": "stdout",
     "output_type": "stream",
     "text": [
      "p-value: 0.00\n",
      "t-statistic: -22.23\n"
     ]
    }
   ],
   "source": [
    "t_test = TwoSampleTest(\n",
    "        group_a = data_a,\n",
    "        group_b = data_b\n",
    "        ).t_test_results\n",
    "\n",
    "print(f\"p-value: {t_test.pvalue:.2f}\")\n",
    "print(f\"t-statistic: {t_test.statistic:.2f}\")"
   ]
  },
  {
   "cell_type": "code",
   "execution_count": 13,
   "id": "5bbb1034-3854-42be-be8e-8f208ad627e7",
   "metadata": {},
   "outputs": [
    {
     "name": "stdout",
     "output_type": "stream",
     "text": [
      "p-value: 0.00\n",
      "t-statistic: -22.23\n"
     ]
    }
   ],
   "source": [
    "t_test = TwoSampleTest(\n",
    "        group_a = data_a,\n",
    "        group_b = data_b,\n",
    "        equal_var=False\n",
    "        ).t_test_results\n",
    "\n",
    "print(f\"p-value: {t_test.pvalue:.2f}\")\n",
    "print(f\"t-statistic: {t_test.statistic:.2f}\")"
   ]
  },
  {
   "cell_type": "markdown",
   "id": "f5ce939e-5d10-41cd-9410-8176f27322ee",
   "metadata": {},
   "source": [
    "<br>\n",
    "\n",
    "**The default is with alternative = \"two-sided\", but that can change to a one tail test.**"
   ]
  },
  {
   "cell_type": "code",
   "execution_count": 14,
   "id": "dd45ed53-b6c4-4bf4-8e5d-6dded2cb180f",
   "metadata": {},
   "outputs": [
    {
     "name": "stdout",
     "output_type": "stream",
     "text": [
      "p-value: 1.00\n",
      "t-statistic: -22.23\n"
     ]
    }
   ],
   "source": [
    "t_test = TwoSampleTest(\n",
    "        group_a = data_a,\n",
    "        group_b = data_b,\n",
    "        alternative = \"greater\"\n",
    "        ).t_test_results\n",
    "\n",
    "print(f\"p-value: {t_test.pvalue:.2f}\")\n",
    "print(f\"t-statistic: {t_test.statistic:.2f}\")"
   ]
  }
 ],
 "metadata": {
  "kernelspec": {
   "display_name": "Python 3 (ipykernel)",
   "language": "python",
   "name": "python3"
  },
  "language_info": {
   "codemirror_mode": {
    "name": "ipython",
    "version": 3
   },
   "file_extension": ".py",
   "mimetype": "text/x-python",
   "name": "python",
   "nbconvert_exporter": "python",
   "pygments_lexer": "ipython3",
   "version": "3.11.9"
  }
 },
 "nbformat": 4,
 "nbformat_minor": 5
}
